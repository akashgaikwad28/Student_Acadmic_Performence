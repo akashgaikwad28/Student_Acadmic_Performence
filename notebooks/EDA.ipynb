{
 "cells": [
  {
   "cell_type": "code",
   "execution_count": 35,
   "id": "35f2c3c2",
   "metadata": {
    "_cell_guid": "b1076dfc-b9ad-4769-8c92-a6c4dae69d19",
    "_uuid": "8f2839f25d086af736a60e9eeb907d3b93b6e0e5",
    "execution": {
     "iopub.execute_input": "2024-09-10T17:48:22.096358Z",
     "iopub.status.busy": "2024-09-10T17:48:22.095734Z",
     "iopub.status.idle": "2024-09-10T17:48:22.586350Z",
     "shell.execute_reply": "2024-09-10T17:48:22.583111Z"
    },
    "papermill": {
     "duration": 0.512782,
     "end_time": "2024-09-10T17:48:22.589788",
     "exception": false,
     "start_time": "2024-09-10T17:48:22.077006",
     "status": "completed"
    },
    "tags": []
   },
   "outputs": [],
   "source": [
    "import numpy as np \n",
    "import pandas as pd \n",
    "import os\n",
    "for dirname, _, filenames in os.walk('../data/dataset.csv'):\n",
    "    for filename in filenames:\n",
    "        print(os.path.join(dirname, filename))"
   ]
  },
  {
   "cell_type": "markdown",
   "id": "bef43d6e",
   "metadata": {
    "papermill": {
     "duration": 0.01301,
     "end_time": "2024-09-10T17:48:22.617212",
     "exception": false,
     "start_time": "2024-09-10T17:48:22.604202",
     "status": "completed"
    },
    "tags": []
   },
   "source": [
    "## Importing the necessary libraries and functions."
   ]
  },
  {
   "cell_type": "code",
   "execution_count": 36,
   "id": "e7ddaf1f",
   "metadata": {
    "execution": {
     "iopub.execute_input": "2024-09-10T17:48:22.647059Z",
     "iopub.status.busy": "2024-09-10T17:48:22.646433Z",
     "iopub.status.idle": "2024-09-10T17:48:25.223589Z",
     "shell.execute_reply": "2024-09-10T17:48:25.222143Z"
    },
    "papermill": {
     "duration": 2.596437,
     "end_time": "2024-09-10T17:48:25.226690",
     "exception": false,
     "start_time": "2024-09-10T17:48:22.630253",
     "status": "completed"
    },
    "tags": []
   },
   "outputs": [],
   "source": [
    "from sklearn.preprocessing import MinMaxScaler,LabelEncoder\n",
    "import matplotlib.pyplot as plt\n",
    "from sklearn.model_selection import train_test_split,GridSearchCV\n",
    "from sklearn.linear_model import LinearRegression \n",
    "from sklearn.ensemble import RandomForestRegressor\n",
    "from sklearn.neighbors import KNeighborsRegressor\n",
    "import seaborn as sns"
   ]
  },
  {
   "cell_type": "code",
   "execution_count": 37,
   "id": "b6c3fc92",
   "metadata": {
    "execution": {
     "iopub.execute_input": "2024-09-10T17:48:25.253642Z",
     "iopub.status.busy": "2024-09-10T17:48:25.252946Z",
     "iopub.status.idle": "2024-09-10T17:48:25.276627Z",
     "shell.execute_reply": "2024-09-10T17:48:25.275333Z"
    },
    "papermill": {
     "duration": 0.040764,
     "end_time": "2024-09-10T17:48:25.279818",
     "exception": false,
     "start_time": "2024-09-10T17:48:25.239054",
     "status": "completed"
    },
    "tags": []
   },
   "outputs": [],
   "source": [
    "df = pd.read_csv(\"../data/dataset.csv\")"
   ]
  },
  {
   "cell_type": "code",
   "execution_count": 38,
   "id": "fc67e432",
   "metadata": {
    "execution": {
     "iopub.execute_input": "2024-09-10T17:48:25.309897Z",
     "iopub.status.busy": "2024-09-10T17:48:25.309438Z",
     "iopub.status.idle": "2024-09-10T17:48:25.338909Z",
     "shell.execute_reply": "2024-09-10T17:48:25.337125Z"
    },
    "papermill": {
     "duration": 0.048926,
     "end_time": "2024-09-10T17:48:25.342347",
     "exception": false,
     "start_time": "2024-09-10T17:48:25.293421",
     "status": "completed"
    },
    "tags": []
   },
   "outputs": [
    {
     "data": {
      "text/html": [
       "<div>\n",
       "<style scoped>\n",
       "    .dataframe tbody tr th:only-of-type {\n",
       "        vertical-align: middle;\n",
       "    }\n",
       "\n",
       "    .dataframe tbody tr th {\n",
       "        vertical-align: top;\n",
       "    }\n",
       "\n",
       "    .dataframe thead th {\n",
       "        text-align: right;\n",
       "    }\n",
       "</style>\n",
       "<table border=\"1\" class=\"dataframe\">\n",
       "  <thead>\n",
       "    <tr style=\"text-align: right;\">\n",
       "      <th></th>\n",
       "      <th>StudentID</th>\n",
       "      <th>Name</th>\n",
       "      <th>Gender</th>\n",
       "      <th>AttendanceRate</th>\n",
       "      <th>StudyHoursPerWeek</th>\n",
       "      <th>PreviousGrade</th>\n",
       "      <th>ExtracurricularActivities</th>\n",
       "      <th>ParentalSupport</th>\n",
       "      <th>FinalGrade</th>\n",
       "    </tr>\n",
       "  </thead>\n",
       "  <tbody>\n",
       "    <tr>\n",
       "      <th>0</th>\n",
       "      <td>1</td>\n",
       "      <td>John</td>\n",
       "      <td>Male</td>\n",
       "      <td>85</td>\n",
       "      <td>15</td>\n",
       "      <td>78</td>\n",
       "      <td>1</td>\n",
       "      <td>High</td>\n",
       "      <td>80</td>\n",
       "    </tr>\n",
       "    <tr>\n",
       "      <th>1</th>\n",
       "      <td>2</td>\n",
       "      <td>Sarah</td>\n",
       "      <td>Female</td>\n",
       "      <td>90</td>\n",
       "      <td>20</td>\n",
       "      <td>85</td>\n",
       "      <td>2</td>\n",
       "      <td>Medium</td>\n",
       "      <td>87</td>\n",
       "    </tr>\n",
       "    <tr>\n",
       "      <th>2</th>\n",
       "      <td>3</td>\n",
       "      <td>Alex</td>\n",
       "      <td>Male</td>\n",
       "      <td>78</td>\n",
       "      <td>10</td>\n",
       "      <td>65</td>\n",
       "      <td>0</td>\n",
       "      <td>Low</td>\n",
       "      <td>68</td>\n",
       "    </tr>\n",
       "    <tr>\n",
       "      <th>3</th>\n",
       "      <td>4</td>\n",
       "      <td>Michael</td>\n",
       "      <td>Male</td>\n",
       "      <td>92</td>\n",
       "      <td>25</td>\n",
       "      <td>90</td>\n",
       "      <td>3</td>\n",
       "      <td>High</td>\n",
       "      <td>92</td>\n",
       "    </tr>\n",
       "    <tr>\n",
       "      <th>4</th>\n",
       "      <td>5</td>\n",
       "      <td>Emma</td>\n",
       "      <td>Female</td>\n",
       "      <td>88</td>\n",
       "      <td>18</td>\n",
       "      <td>82</td>\n",
       "      <td>2</td>\n",
       "      <td>Medium</td>\n",
       "      <td>85</td>\n",
       "    </tr>\n",
       "  </tbody>\n",
       "</table>\n",
       "</div>"
      ],
      "text/plain": [
       "   StudentID     Name  Gender  AttendanceRate  StudyHoursPerWeek  \\\n",
       "0          1     John    Male              85                 15   \n",
       "1          2    Sarah  Female              90                 20   \n",
       "2          3     Alex    Male              78                 10   \n",
       "3          4  Michael    Male              92                 25   \n",
       "4          5     Emma  Female              88                 18   \n",
       "\n",
       "   PreviousGrade  ExtracurricularActivities ParentalSupport  FinalGrade  \n",
       "0             78                          1            High          80  \n",
       "1             85                          2          Medium          87  \n",
       "2             65                          0             Low          68  \n",
       "3             90                          3            High          92  \n",
       "4             82                          2          Medium          85  "
      ]
     },
     "execution_count": 38,
     "metadata": {},
     "output_type": "execute_result"
    }
   ],
   "source": [
    "df.head()"
   ]
  },
  {
   "cell_type": "markdown",
   "id": "8df02551",
   "metadata": {
    "papermill": {
     "duration": 0.013158,
     "end_time": "2024-09-10T17:48:25.369082",
     "exception": false,
     "start_time": "2024-09-10T17:48:25.355924",
     "status": "completed"
    },
    "tags": []
   },
   "source": [
    "## Describe the dataset"
   ]
  },
  {
   "cell_type": "code",
   "execution_count": 39,
   "id": "79b35ea9",
   "metadata": {
    "execution": {
     "iopub.execute_input": "2024-09-10T17:48:25.398974Z",
     "iopub.status.busy": "2024-09-10T17:48:25.398460Z",
     "iopub.status.idle": "2024-09-10T17:48:25.444715Z",
     "shell.execute_reply": "2024-09-10T17:48:25.443179Z"
    },
    "papermill": {
     "duration": 0.064957,
     "end_time": "2024-09-10T17:48:25.448632",
     "exception": false,
     "start_time": "2024-09-10T17:48:25.383675",
     "status": "completed"
    },
    "tags": []
   },
   "outputs": [
    {
     "data": {
      "text/html": [
       "<div>\n",
       "<style scoped>\n",
       "    .dataframe tbody tr th:only-of-type {\n",
       "        vertical-align: middle;\n",
       "    }\n",
       "\n",
       "    .dataframe tbody tr th {\n",
       "        vertical-align: top;\n",
       "    }\n",
       "\n",
       "    .dataframe thead th {\n",
       "        text-align: right;\n",
       "    }\n",
       "</style>\n",
       "<table border=\"1\" class=\"dataframe\">\n",
       "  <thead>\n",
       "    <tr style=\"text-align: right;\">\n",
       "      <th></th>\n",
       "      <th>StudentID</th>\n",
       "      <th>AttendanceRate</th>\n",
       "      <th>StudyHoursPerWeek</th>\n",
       "      <th>PreviousGrade</th>\n",
       "      <th>ExtracurricularActivities</th>\n",
       "      <th>FinalGrade</th>\n",
       "    </tr>\n",
       "  </thead>\n",
       "  <tbody>\n",
       "    <tr>\n",
       "      <th>count</th>\n",
       "      <td>10.00000</td>\n",
       "      <td>10.000000</td>\n",
       "      <td>10.000000</td>\n",
       "      <td>10.000000</td>\n",
       "      <td>10.000000</td>\n",
       "      <td>10.000000</td>\n",
       "    </tr>\n",
       "    <tr>\n",
       "      <th>mean</th>\n",
       "      <td>5.50000</td>\n",
       "      <td>85.600000</td>\n",
       "      <td>17.700000</td>\n",
       "      <td>78.100000</td>\n",
       "      <td>1.500000</td>\n",
       "      <td>80.200000</td>\n",
       "    </tr>\n",
       "    <tr>\n",
       "      <th>std</th>\n",
       "      <td>3.02765</td>\n",
       "      <td>7.441625</td>\n",
       "      <td>6.848357</td>\n",
       "      <td>10.170218</td>\n",
       "      <td>1.080123</td>\n",
       "      <td>10.097304</td>\n",
       "    </tr>\n",
       "    <tr>\n",
       "      <th>min</th>\n",
       "      <td>1.00000</td>\n",
       "      <td>70.000000</td>\n",
       "      <td>8.000000</td>\n",
       "      <td>60.000000</td>\n",
       "      <td>0.000000</td>\n",
       "      <td>62.000000</td>\n",
       "    </tr>\n",
       "    <tr>\n",
       "      <th>25%</th>\n",
       "      <td>3.25000</td>\n",
       "      <td>82.750000</td>\n",
       "      <td>12.750000</td>\n",
       "      <td>71.750000</td>\n",
       "      <td>1.000000</td>\n",
       "      <td>73.500000</td>\n",
       "    </tr>\n",
       "    <tr>\n",
       "      <th>50%</th>\n",
       "      <td>5.50000</td>\n",
       "      <td>86.500000</td>\n",
       "      <td>17.500000</td>\n",
       "      <td>80.000000</td>\n",
       "      <td>1.500000</td>\n",
       "      <td>82.500000</td>\n",
       "    </tr>\n",
       "    <tr>\n",
       "      <th>75%</th>\n",
       "      <td>7.75000</td>\n",
       "      <td>90.750000</td>\n",
       "      <td>21.500000</td>\n",
       "      <td>85.750000</td>\n",
       "      <td>2.000000</td>\n",
       "      <td>87.750000</td>\n",
       "    </tr>\n",
       "    <tr>\n",
       "      <th>max</th>\n",
       "      <td>10.00000</td>\n",
       "      <td>95.000000</td>\n",
       "      <td>30.000000</td>\n",
       "      <td>90.000000</td>\n",
       "      <td>3.000000</td>\n",
       "      <td>92.000000</td>\n",
       "    </tr>\n",
       "  </tbody>\n",
       "</table>\n",
       "</div>"
      ],
      "text/plain": [
       "       StudentID  AttendanceRate  StudyHoursPerWeek  PreviousGrade  \\\n",
       "count   10.00000       10.000000          10.000000      10.000000   \n",
       "mean     5.50000       85.600000          17.700000      78.100000   \n",
       "std      3.02765        7.441625           6.848357      10.170218   \n",
       "min      1.00000       70.000000           8.000000      60.000000   \n",
       "25%      3.25000       82.750000          12.750000      71.750000   \n",
       "50%      5.50000       86.500000          17.500000      80.000000   \n",
       "75%      7.75000       90.750000          21.500000      85.750000   \n",
       "max     10.00000       95.000000          30.000000      90.000000   \n",
       "\n",
       "       ExtracurricularActivities  FinalGrade  \n",
       "count                  10.000000   10.000000  \n",
       "mean                    1.500000   80.200000  \n",
       "std                     1.080123   10.097304  \n",
       "min                     0.000000   62.000000  \n",
       "25%                     1.000000   73.500000  \n",
       "50%                     1.500000   82.500000  \n",
       "75%                     2.000000   87.750000  \n",
       "max                     3.000000   92.000000  "
      ]
     },
     "execution_count": 39,
     "metadata": {},
     "output_type": "execute_result"
    }
   ],
   "source": [
    "df.describe()"
   ]
  },
  {
   "cell_type": "markdown",
   "id": "34a8b1f8",
   "metadata": {
    "papermill": {
     "duration": 0.014388,
     "end_time": "2024-09-10T17:48:25.477010",
     "exception": false,
     "start_time": "2024-09-10T17:48:25.462622",
     "status": "completed"
    },
    "tags": []
   },
   "source": [
    "## For checking the no of non-null values ,memory and datatype."
   ]
  },
  {
   "cell_type": "code",
   "execution_count": 40,
   "id": "e3a2c9ba",
   "metadata": {
    "execution": {
     "iopub.execute_input": "2024-09-10T17:48:25.506865Z",
     "iopub.status.busy": "2024-09-10T17:48:25.505654Z",
     "iopub.status.idle": "2024-09-10T17:48:25.536342Z",
     "shell.execute_reply": "2024-09-10T17:48:25.535058Z"
    },
    "papermill": {
     "duration": 0.048589,
     "end_time": "2024-09-10T17:48:25.539264",
     "exception": false,
     "start_time": "2024-09-10T17:48:25.490675",
     "status": "completed"
    },
    "tags": []
   },
   "outputs": [
    {
     "name": "stdout",
     "output_type": "stream",
     "text": [
      "<class 'pandas.core.frame.DataFrame'>\n",
      "RangeIndex: 10 entries, 0 to 9\n",
      "Data columns (total 9 columns):\n",
      " #   Column                     Non-Null Count  Dtype \n",
      "---  ------                     --------------  ----- \n",
      " 0   StudentID                  10 non-null     int64 \n",
      " 1   Name                       10 non-null     object\n",
      " 2   Gender                     10 non-null     object\n",
      " 3   AttendanceRate             10 non-null     int64 \n",
      " 4   StudyHoursPerWeek          10 non-null     int64 \n",
      " 5   PreviousGrade              10 non-null     int64 \n",
      " 6   ExtracurricularActivities  10 non-null     int64 \n",
      " 7   ParentalSupport            10 non-null     object\n",
      " 8   FinalGrade                 10 non-null     int64 \n",
      "dtypes: int64(6), object(3)\n",
      "memory usage: 848.0+ bytes\n"
     ]
    }
   ],
   "source": [
    "df.info()"
   ]
  },
  {
   "cell_type": "markdown",
   "id": "c66d3b63",
   "metadata": {
    "papermill": {
     "duration": 0.012862,
     "end_time": "2024-09-10T17:48:25.566105",
     "exception": false,
     "start_time": "2024-09-10T17:48:25.553243",
     "status": "completed"
    },
    "tags": []
   },
   "source": [
    "## Check for the null values in the dataset for the where if is less in range just drop it or else make fill with that values with some constrains ."
   ]
  },
  {
   "cell_type": "code",
   "execution_count": 41,
   "id": "80bcc0be",
   "metadata": {
    "execution": {
     "iopub.execute_input": "2024-09-10T17:48:25.597574Z",
     "iopub.status.busy": "2024-09-10T17:48:25.597125Z",
     "iopub.status.idle": "2024-09-10T17:48:25.606480Z",
     "shell.execute_reply": "2024-09-10T17:48:25.605056Z"
    },
    "papermill": {
     "duration": 0.027878,
     "end_time": "2024-09-10T17:48:25.609490",
     "exception": false,
     "start_time": "2024-09-10T17:48:25.581612",
     "status": "completed"
    },
    "tags": []
   },
   "outputs": [
    {
     "data": {
      "text/plain": [
       "Index(['StudentID', 'Name', 'Gender', 'AttendanceRate', 'StudyHoursPerWeek',\n",
       "       'PreviousGrade', 'ExtracurricularActivities', 'ParentalSupport',\n",
       "       'FinalGrade'],\n",
       "      dtype='object')"
      ]
     },
     "execution_count": 41,
     "metadata": {},
     "output_type": "execute_result"
    }
   ],
   "source": [
    "df.columns"
   ]
  },
  {
   "cell_type": "code",
   "execution_count": 42,
   "id": "f0f25c35",
   "metadata": {
    "execution": {
     "iopub.execute_input": "2024-09-10T17:48:25.637762Z",
     "iopub.status.busy": "2024-09-10T17:48:25.637352Z",
     "iopub.status.idle": "2024-09-10T17:48:25.647062Z",
     "shell.execute_reply": "2024-09-10T17:48:25.645622Z"
    },
    "papermill": {
     "duration": 0.027376,
     "end_time": "2024-09-10T17:48:25.650153",
     "exception": false,
     "start_time": "2024-09-10T17:48:25.622777",
     "status": "completed"
    },
    "tags": []
   },
   "outputs": [],
   "source": [
    "df = df.drop('StudentID',axis=1)"
   ]
  },
  {
   "cell_type": "code",
   "execution_count": 43,
   "id": "e257102c",
   "metadata": {
    "execution": {
     "iopub.execute_input": "2024-09-10T17:48:25.680272Z",
     "iopub.status.busy": "2024-09-10T17:48:25.679722Z",
     "iopub.status.idle": "2024-09-10T17:48:25.697109Z",
     "shell.execute_reply": "2024-09-10T17:48:25.695841Z"
    },
    "papermill": {
     "duration": 0.035283,
     "end_time": "2024-09-10T17:48:25.699809",
     "exception": false,
     "start_time": "2024-09-10T17:48:25.664526",
     "status": "completed"
    },
    "tags": []
   },
   "outputs": [
    {
     "data": {
      "text/html": [
       "<div>\n",
       "<style scoped>\n",
       "    .dataframe tbody tr th:only-of-type {\n",
       "        vertical-align: middle;\n",
       "    }\n",
       "\n",
       "    .dataframe tbody tr th {\n",
       "        vertical-align: top;\n",
       "    }\n",
       "\n",
       "    .dataframe thead th {\n",
       "        text-align: right;\n",
       "    }\n",
       "</style>\n",
       "<table border=\"1\" class=\"dataframe\">\n",
       "  <thead>\n",
       "    <tr style=\"text-align: right;\">\n",
       "      <th></th>\n",
       "      <th>Name</th>\n",
       "      <th>Gender</th>\n",
       "      <th>AttendanceRate</th>\n",
       "      <th>StudyHoursPerWeek</th>\n",
       "      <th>PreviousGrade</th>\n",
       "      <th>ExtracurricularActivities</th>\n",
       "      <th>ParentalSupport</th>\n",
       "      <th>FinalGrade</th>\n",
       "    </tr>\n",
       "  </thead>\n",
       "  <tbody>\n",
       "    <tr>\n",
       "      <th>0</th>\n",
       "      <td>John</td>\n",
       "      <td>Male</td>\n",
       "      <td>85</td>\n",
       "      <td>15</td>\n",
       "      <td>78</td>\n",
       "      <td>1</td>\n",
       "      <td>High</td>\n",
       "      <td>80</td>\n",
       "    </tr>\n",
       "    <tr>\n",
       "      <th>1</th>\n",
       "      <td>Sarah</td>\n",
       "      <td>Female</td>\n",
       "      <td>90</td>\n",
       "      <td>20</td>\n",
       "      <td>85</td>\n",
       "      <td>2</td>\n",
       "      <td>Medium</td>\n",
       "      <td>87</td>\n",
       "    </tr>\n",
       "    <tr>\n",
       "      <th>2</th>\n",
       "      <td>Alex</td>\n",
       "      <td>Male</td>\n",
       "      <td>78</td>\n",
       "      <td>10</td>\n",
       "      <td>65</td>\n",
       "      <td>0</td>\n",
       "      <td>Low</td>\n",
       "      <td>68</td>\n",
       "    </tr>\n",
       "    <tr>\n",
       "      <th>3</th>\n",
       "      <td>Michael</td>\n",
       "      <td>Male</td>\n",
       "      <td>92</td>\n",
       "      <td>25</td>\n",
       "      <td>90</td>\n",
       "      <td>3</td>\n",
       "      <td>High</td>\n",
       "      <td>92</td>\n",
       "    </tr>\n",
       "    <tr>\n",
       "      <th>4</th>\n",
       "      <td>Emma</td>\n",
       "      <td>Female</td>\n",
       "      <td>88</td>\n",
       "      <td>18</td>\n",
       "      <td>82</td>\n",
       "      <td>2</td>\n",
       "      <td>Medium</td>\n",
       "      <td>85</td>\n",
       "    </tr>\n",
       "  </tbody>\n",
       "</table>\n",
       "</div>"
      ],
      "text/plain": [
       "      Name  Gender  AttendanceRate  StudyHoursPerWeek  PreviousGrade  \\\n",
       "0     John    Male              85                 15             78   \n",
       "1    Sarah  Female              90                 20             85   \n",
       "2     Alex    Male              78                 10             65   \n",
       "3  Michael    Male              92                 25             90   \n",
       "4     Emma  Female              88                 18             82   \n",
       "\n",
       "   ExtracurricularActivities ParentalSupport  FinalGrade  \n",
       "0                          1            High          80  \n",
       "1                          2          Medium          87  \n",
       "2                          0             Low          68  \n",
       "3                          3            High          92  \n",
       "4                          2          Medium          85  "
      ]
     },
     "execution_count": 43,
     "metadata": {},
     "output_type": "execute_result"
    }
   ],
   "source": [
    "df.head()"
   ]
  },
  {
   "cell_type": "markdown",
   "id": "ebe991d7",
   "metadata": {
    "papermill": {
     "duration": 0.014066,
     "end_time": "2024-09-10T17:48:25.728369",
     "exception": false,
     "start_time": "2024-09-10T17:48:25.714303",
     "status": "completed"
    },
    "tags": []
   },
   "source": [
    "## Encode the values in the numeric format for the Gender Column ."
   ]
  },
  {
   "cell_type": "code",
   "execution_count": 44,
   "id": "2b23fee7",
   "metadata": {
    "execution": {
     "iopub.execute_input": "2024-09-10T17:48:25.758571Z",
     "iopub.status.busy": "2024-09-10T17:48:25.758103Z",
     "iopub.status.idle": "2024-09-10T17:48:25.767545Z",
     "shell.execute_reply": "2024-09-10T17:48:25.766103Z"
    },
    "papermill": {
     "duration": 0.028123,
     "end_time": "2024-09-10T17:48:25.770534",
     "exception": false,
     "start_time": "2024-09-10T17:48:25.742411",
     "status": "completed"
    },
    "tags": []
   },
   "outputs": [],
   "source": [
    "lab_enc = LabelEncoder()\n",
    "df['Gender'] = lab_enc.fit_transform(df['Gender'])"
   ]
  },
  {
   "cell_type": "markdown",
   "id": "7b86663a",
   "metadata": {
    "papermill": {
     "duration": 0.014197,
     "end_time": "2024-09-10T17:48:25.800173",
     "exception": false,
     "start_time": "2024-09-10T17:48:25.785976",
     "status": "completed"
    },
    "tags": []
   },
   "source": [
    "## Get the dummies values for the ParentalSupport columns ."
   ]
  },
  {
   "cell_type": "code",
   "execution_count": 45,
   "id": "5683e794",
   "metadata": {
    "execution": {
     "iopub.execute_input": "2024-09-10T17:48:25.830047Z",
     "iopub.status.busy": "2024-09-10T17:48:25.829504Z",
     "iopub.status.idle": "2024-09-10T17:48:25.844379Z",
     "shell.execute_reply": "2024-09-10T17:48:25.842577Z"
    },
    "papermill": {
     "duration": 0.033173,
     "end_time": "2024-09-10T17:48:25.847187",
     "exception": false,
     "start_time": "2024-09-10T17:48:25.814014",
     "status": "completed"
    },
    "tags": []
   },
   "outputs": [],
   "source": [
    "df = pd.get_dummies(df,columns=['ParentalSupport'],drop_first=False)"
   ]
  },
  {
   "cell_type": "code",
   "execution_count": 46,
   "id": "fda375b3",
   "metadata": {
    "execution": {
     "iopub.execute_input": "2024-09-10T17:48:25.879706Z",
     "iopub.status.busy": "2024-09-10T17:48:25.878744Z",
     "iopub.status.idle": "2024-09-10T17:48:25.898112Z",
     "shell.execute_reply": "2024-09-10T17:48:25.896447Z"
    },
    "papermill": {
     "duration": 0.038253,
     "end_time": "2024-09-10T17:48:25.900829",
     "exception": false,
     "start_time": "2024-09-10T17:48:25.862576",
     "status": "completed"
    },
    "tags": []
   },
   "outputs": [
    {
     "data": {
      "text/html": [
       "<div>\n",
       "<style scoped>\n",
       "    .dataframe tbody tr th:only-of-type {\n",
       "        vertical-align: middle;\n",
       "    }\n",
       "\n",
       "    .dataframe tbody tr th {\n",
       "        vertical-align: top;\n",
       "    }\n",
       "\n",
       "    .dataframe thead th {\n",
       "        text-align: right;\n",
       "    }\n",
       "</style>\n",
       "<table border=\"1\" class=\"dataframe\">\n",
       "  <thead>\n",
       "    <tr style=\"text-align: right;\">\n",
       "      <th></th>\n",
       "      <th>Name</th>\n",
       "      <th>Gender</th>\n",
       "      <th>AttendanceRate</th>\n",
       "      <th>StudyHoursPerWeek</th>\n",
       "      <th>PreviousGrade</th>\n",
       "      <th>ExtracurricularActivities</th>\n",
       "      <th>FinalGrade</th>\n",
       "      <th>ParentalSupport_High</th>\n",
       "      <th>ParentalSupport_Low</th>\n",
       "      <th>ParentalSupport_Medium</th>\n",
       "    </tr>\n",
       "  </thead>\n",
       "  <tbody>\n",
       "    <tr>\n",
       "      <th>0</th>\n",
       "      <td>John</td>\n",
       "      <td>1</td>\n",
       "      <td>85</td>\n",
       "      <td>15</td>\n",
       "      <td>78</td>\n",
       "      <td>1</td>\n",
       "      <td>80</td>\n",
       "      <td>True</td>\n",
       "      <td>False</td>\n",
       "      <td>False</td>\n",
       "    </tr>\n",
       "    <tr>\n",
       "      <th>1</th>\n",
       "      <td>Sarah</td>\n",
       "      <td>0</td>\n",
       "      <td>90</td>\n",
       "      <td>20</td>\n",
       "      <td>85</td>\n",
       "      <td>2</td>\n",
       "      <td>87</td>\n",
       "      <td>False</td>\n",
       "      <td>False</td>\n",
       "      <td>True</td>\n",
       "    </tr>\n",
       "    <tr>\n",
       "      <th>2</th>\n",
       "      <td>Alex</td>\n",
       "      <td>1</td>\n",
       "      <td>78</td>\n",
       "      <td>10</td>\n",
       "      <td>65</td>\n",
       "      <td>0</td>\n",
       "      <td>68</td>\n",
       "      <td>False</td>\n",
       "      <td>True</td>\n",
       "      <td>False</td>\n",
       "    </tr>\n",
       "    <tr>\n",
       "      <th>3</th>\n",
       "      <td>Michael</td>\n",
       "      <td>1</td>\n",
       "      <td>92</td>\n",
       "      <td>25</td>\n",
       "      <td>90</td>\n",
       "      <td>3</td>\n",
       "      <td>92</td>\n",
       "      <td>True</td>\n",
       "      <td>False</td>\n",
       "      <td>False</td>\n",
       "    </tr>\n",
       "    <tr>\n",
       "      <th>4</th>\n",
       "      <td>Emma</td>\n",
       "      <td>0</td>\n",
       "      <td>88</td>\n",
       "      <td>18</td>\n",
       "      <td>82</td>\n",
       "      <td>2</td>\n",
       "      <td>85</td>\n",
       "      <td>False</td>\n",
       "      <td>False</td>\n",
       "      <td>True</td>\n",
       "    </tr>\n",
       "  </tbody>\n",
       "</table>\n",
       "</div>"
      ],
      "text/plain": [
       "      Name  Gender  AttendanceRate  StudyHoursPerWeek  PreviousGrade  \\\n",
       "0     John       1              85                 15             78   \n",
       "1    Sarah       0              90                 20             85   \n",
       "2     Alex       1              78                 10             65   \n",
       "3  Michael       1              92                 25             90   \n",
       "4     Emma       0              88                 18             82   \n",
       "\n",
       "   ExtracurricularActivities  FinalGrade  ParentalSupport_High  \\\n",
       "0                          1          80                  True   \n",
       "1                          2          87                 False   \n",
       "2                          0          68                 False   \n",
       "3                          3          92                  True   \n",
       "4                          2          85                 False   \n",
       "\n",
       "   ParentalSupport_Low  ParentalSupport_Medium  \n",
       "0                False                   False  \n",
       "1                False                    True  \n",
       "2                 True                   False  \n",
       "3                False                   False  \n",
       "4                False                    True  "
      ]
     },
     "execution_count": 46,
     "metadata": {},
     "output_type": "execute_result"
    }
   ],
   "source": [
    "df.head()"
   ]
  },
  {
   "cell_type": "markdown",
   "id": "9612136c",
   "metadata": {
    "papermill": {
     "duration": 0.013933,
     "end_time": "2024-09-10T17:48:25.928511",
     "exception": false,
     "start_time": "2024-09-10T17:48:25.914578",
     "status": "completed"
    },
    "tags": []
   },
   "source": [
    "## Plot for the categorical values"
   ]
  },
  {
   "cell_type": "code",
   "execution_count": 47,
   "id": "6c823455",
   "metadata": {
    "execution": {
     "iopub.execute_input": "2024-09-10T17:48:25.959096Z",
     "iopub.status.busy": "2024-09-10T17:48:25.958135Z",
     "iopub.status.idle": "2024-09-10T17:48:27.219854Z",
     "shell.execute_reply": "2024-09-10T17:48:27.218015Z"
    },
    "papermill": {
     "duration": 1.288754,
     "end_time": "2024-09-10T17:48:27.230999",
     "exception": false,
     "start_time": "2024-09-10T17:48:25.942245",
     "status": "completed"
    },
    "tags": []
   },
   "outputs": [
    {
     "name": "stderr",
     "output_type": "stream",
     "text": [
      "No artists with labels found to put in legend.  Note that artists whose label start with an underscore are ignored when legend() is called with no argument.\n",
      "No artists with labels found to put in legend.  Note that artists whose label start with an underscore are ignored when legend() is called with no argument.\n",
      "No artists with labels found to put in legend.  Note that artists whose label start with an underscore are ignored when legend() is called with no argument.\n",
      "No artists with labels found to put in legend.  Note that artists whose label start with an underscore are ignored when legend() is called with no argument.\n",
      "No artists with labels found to put in legend.  Note that artists whose label start with an underscore are ignored when legend() is called with no argument.\n"
     ]
    },
    {
     "data": {
      "image/png": "[encoded data removed]",
      "text/plain": [
       "<Figure size 700x400 with 2 Axes>"
      ]
     },
     "metadata": {},
     "output_type": "display_data"
    },
    {
     "data": {
      "image/png": "[encoded data removed]",
      "text/plain": [
       "<Figure size 700x400 with 2 Axes>"
      ]
     },
     "metadata": {},
     "output_type": "display_data"
    },
    {
     "data": {
      "image/png": "[encoded data removed]",
      "text/plain": [
       "<Figure size 700x400 with 2 Axes>"
      ]
     },
     "metadata": {},
     "output_type": "display_data"
    },
    {
     "data": {
      "image/png": "[encoded data removed]",
      "text/plain": [
       "<Figure size 700x400 with 2 Axes>"
      ]
     },
     "metadata": {},
     "output_type": "display_data"
    },
    {
     "data": {
      "image/png": "[encoded data removed]",
      "text/plain": [
       "<Figure size 700x400 with 2 Axes>"
      ]
     },
     "metadata": {},
     "output_type": "display_data"
    }
   ],
   "source": [
    "values = ['Gender','ExtracurricularActivities','ParentalSupport_High','ParentalSupport_Low','ParentalSupport_Medium']\n",
    "for i in values:\n",
    "    val = df[i].value_counts()\n",
    "    idx = val.index\n",
    "    vals = val.values\n",
    "    fig,ax = plt.subplots(1,2,figsize=(7,4))\n",
    "    ax[0].pie(vals,labels=idx)\n",
    "    ax[1].bar(idx,vals)\n",
    "    ax[0].set_title(f\"Pie Chart : {i}\")\n",
    "    ax[1].set_title(f\"Bar Chart : {i}\")\n",
    "    ax[1].axis('off')\n",
    "    plt.legend()"
   ]
  },
  {
   "cell_type": "markdown",
   "id": "a4a6b306",
   "metadata": {
    "papermill": {
     "duration": 0.029977,
     "end_time": "2024-09-10T17:48:27.290825",
     "exception": false,
     "start_time": "2024-09-10T17:48:27.260848",
     "status": "completed"
    },
    "tags": []
   },
   "source": [
    "## Plot for the Continuous Values "
   ]
  },
  {
   "cell_type": "code",
   "execution_count": 48,
   "id": "1c0382c9",
   "metadata": {
    "execution": {
     "iopub.execute_input": "2024-09-10T17:48:27.344088Z",
     "iopub.status.busy": "2024-09-10T17:48:27.342798Z",
     "iopub.status.idle": "2024-09-10T17:48:28.920789Z",
     "shell.execute_reply": "2024-09-10T17:48:28.919317Z"
    },
    "papermill": {
     "duration": 1.605409,
     "end_time": "2024-09-10T17:48:28.924133",
     "exception": false,
     "start_time": "2024-09-10T17:48:27.318724",
     "status": "completed"
    },
    "tags": []
   },
   "outputs": [
    {
     "name": "stderr",
     "output_type": "stream",
     "text": [
      "No artists with labels found to put in legend.  Note that artists whose label start with an underscore are ignored when legend() is called with no argument.\n"
     ]
    },
    {
     "data": {
      "image/png": "[encoded data removed]",
      "text/plain": [
       "<Figure size 700x400 with 2 Axes>"
      ]
     },
     "metadata": {},
     "output_type": "display_data"
    },
    {
     "name": "stderr",
     "output_type": "stream",
     "text": [
      "No artists with labels found to put in legend.  Note that artists whose label start with an underscore are ignored when legend() is called with no argument.\n"
     ]
    },
    {
     "data": {
      "image/png": "[encoded data removed]",
      "text/plain": [
       "<Figure size 700x400 with 2 Axes>"
      ]
     },
     "metadata": {},
     "output_type": "display_data"
    },
    {
     "name": "stderr",
     "output_type": "stream",
     "text": [
      "No artists with labels found to put in legend.  Note that artists whose label start with an underscore are ignored when legend() is called with no argument.\n"
     ]
    },
    {
     "data": {
      "image/png": "[encoded data removed]",
      "text/plain": [
       "<Figure size 700x400 with 2 Axes>"
      ]
     },
     "metadata": {},
     "output_type": "display_data"
    }
   ],
   "source": [
    "cols = ['AttendanceRate','StudyHoursPerWeek','PreviousGrade','FinalGrade']\n",
    "for i in cols[:-1]:\n",
    "    vals = df[i]\n",
    "    fig,ax = plt.subplots(1,2,figsize=(7,4))\n",
    "    sns.boxplot(data = df,x=i,ax=ax[0])\n",
    "    ax[0].set_title(f\"Box Plot : {i}\")\n",
    "    sns.scatterplot(data=df,x=i,y='FinalGrade',ax=ax[1])\n",
    "    ax[1].set_title(f\"{i} vs Target Column .\")\n",
    "    plt.legend()\n",
    "    plt.show()"
   ]
  },
  {
   "cell_type": "code",
   "execution_count": 49,
   "id": "80341001",
   "metadata": {
    "execution": {
     "iopub.execute_input": "2024-09-10T17:48:28.963148Z",
     "iopub.status.busy": "2024-09-10T17:48:28.962596Z",
     "iopub.status.idle": "2024-09-10T17:48:28.980219Z",
     "shell.execute_reply": "2024-09-10T17:48:28.978556Z"
    },
    "papermill": {
     "duration": 0.040466,
     "end_time": "2024-09-10T17:48:28.983071",
     "exception": false,
     "start_time": "2024-09-10T17:48:28.942605",
     "status": "completed"
    },
    "tags": []
   },
   "outputs": [
    {
     "data": {
      "text/html": [
       "<div>\n",
       "<style scoped>\n",
       "    .dataframe tbody tr th:only-of-type {\n",
       "        vertical-align: middle;\n",
       "    }\n",
       "\n",
       "    .dataframe tbody tr th {\n",
       "        vertical-align: top;\n",
       "    }\n",
       "\n",
       "    .dataframe thead th {\n",
       "        text-align: right;\n",
       "    }\n",
       "</style>\n",
       "<table border=\"1\" class=\"dataframe\">\n",
       "  <thead>\n",
       "    <tr style=\"text-align: right;\">\n",
       "      <th></th>\n",
       "      <th>Name</th>\n",
       "      <th>Gender</th>\n",
       "      <th>AttendanceRate</th>\n",
       "      <th>StudyHoursPerWeek</th>\n",
       "      <th>PreviousGrade</th>\n",
       "      <th>ExtracurricularActivities</th>\n",
       "      <th>FinalGrade</th>\n",
       "      <th>ParentalSupport_High</th>\n",
       "      <th>ParentalSupport_Low</th>\n",
       "      <th>ParentalSupport_Medium</th>\n",
       "    </tr>\n",
       "  </thead>\n",
       "  <tbody>\n",
       "    <tr>\n",
       "      <th>0</th>\n",
       "      <td>John</td>\n",
       "      <td>1</td>\n",
       "      <td>85</td>\n",
       "      <td>15</td>\n",
       "      <td>78</td>\n",
       "      <td>1</td>\n",
       "      <td>80</td>\n",
       "      <td>True</td>\n",
       "      <td>False</td>\n",
       "      <td>False</td>\n",
       "    </tr>\n",
       "    <tr>\n",
       "      <th>1</th>\n",
       "      <td>Sarah</td>\n",
       "      <td>0</td>\n",
       "      <td>90</td>\n",
       "      <td>20</td>\n",
       "      <td>85</td>\n",
       "      <td>2</td>\n",
       "      <td>87</td>\n",
       "      <td>False</td>\n",
       "      <td>False</td>\n",
       "      <td>True</td>\n",
       "    </tr>\n",
       "    <tr>\n",
       "      <th>2</th>\n",
       "      <td>Alex</td>\n",
       "      <td>1</td>\n",
       "      <td>78</td>\n",
       "      <td>10</td>\n",
       "      <td>65</td>\n",
       "      <td>0</td>\n",
       "      <td>68</td>\n",
       "      <td>False</td>\n",
       "      <td>True</td>\n",
       "      <td>False</td>\n",
       "    </tr>\n",
       "    <tr>\n",
       "      <th>3</th>\n",
       "      <td>Michael</td>\n",
       "      <td>1</td>\n",
       "      <td>92</td>\n",
       "      <td>25</td>\n",
       "      <td>90</td>\n",
       "      <td>3</td>\n",
       "      <td>92</td>\n",
       "      <td>True</td>\n",
       "      <td>False</td>\n",
       "      <td>False</td>\n",
       "    </tr>\n",
       "    <tr>\n",
       "      <th>4</th>\n",
       "      <td>Emma</td>\n",
       "      <td>0</td>\n",
       "      <td>88</td>\n",
       "      <td>18</td>\n",
       "      <td>82</td>\n",
       "      <td>2</td>\n",
       "      <td>85</td>\n",
       "      <td>False</td>\n",
       "      <td>False</td>\n",
       "      <td>True</td>\n",
       "    </tr>\n",
       "  </tbody>\n",
       "</table>\n",
       "</div>"
      ],
      "text/plain": [
       "      Name  Gender  AttendanceRate  StudyHoursPerWeek  PreviousGrade  \\\n",
       "0     John       1              85                 15             78   \n",
       "1    Sarah       0              90                 20             85   \n",
       "2     Alex       1              78                 10             65   \n",
       "3  Michael       1              92                 25             90   \n",
       "4     Emma       0              88                 18             82   \n",
       "\n",
       "   ExtracurricularActivities  FinalGrade  ParentalSupport_High  \\\n",
       "0                          1          80                  True   \n",
       "1                          2          87                 False   \n",
       "2                          0          68                 False   \n",
       "3                          3          92                  True   \n",
       "4                          2          85                 False   \n",
       "\n",
       "   ParentalSupport_Low  ParentalSupport_Medium  \n",
       "0                False                   False  \n",
       "1                False                    True  \n",
       "2                 True                   False  \n",
       "3                False                   False  \n",
       "4                False                    True  "
      ]
     },
     "execution_count": 49,
     "metadata": {},
     "output_type": "execute_result"
    }
   ],
   "source": [
    "df.head()"
   ]
  },
  {
   "cell_type": "markdown",
   "id": "630f004e",
   "metadata": {
    "papermill": {
     "duration": 0.018165,
     "end_time": "2024-09-10T17:48:29.019404",
     "exception": false,
     "start_time": "2024-09-10T17:48:29.001239",
     "status": "completed"
    },
    "tags": []
   },
   "source": [
    "## Split the dataset into the Features and Labels"
   ]
  },
  {
   "cell_type": "code",
   "execution_count": 50,
   "id": "34163817",
   "metadata": {
    "execution": {
     "iopub.execute_input": "2024-09-10T17:48:29.060921Z",
     "iopub.status.busy": "2024-09-10T17:48:29.060380Z",
     "iopub.status.idle": "2024-09-10T17:48:29.068376Z",
     "shell.execute_reply": "2024-09-10T17:48:29.066838Z"
    },
    "papermill": {
     "duration": 0.031663,
     "end_time": "2024-09-10T17:48:29.070952",
     "exception": false,
     "start_time": "2024-09-10T17:48:29.039289",
     "status": "completed"
    },
    "tags": []
   },
   "outputs": [],
   "source": [
    "df = df.drop('Name',axis=1)"
   ]
  },
  {
   "cell_type": "code",
   "execution_count": 51,
   "id": "c592f178",
   "metadata": {
    "execution": {
     "iopub.execute_input": "2024-09-10T17:48:29.111202Z",
     "iopub.status.busy": "2024-09-10T17:48:29.109944Z",
     "iopub.status.idle": "2024-09-10T17:48:29.118845Z",
     "shell.execute_reply": "2024-09-10T17:48:29.117342Z"
    },
    "papermill": {
     "duration": 0.032351,
     "end_time": "2024-09-10T17:48:29.122240",
     "exception": false,
     "start_time": "2024-09-10T17:48:29.089889",
     "status": "completed"
    },
    "tags": []
   },
   "outputs": [],
   "source": [
    "X = df[['Gender','AttendanceRate','StudyHoursPerWeek','PreviousGrade','ExtracurricularActivities','ParentalSupport_High','ParentalSupport_Low','ParentalSupport_Medium']]\n",
    "y = df.FinalGrade"
   ]
  },
  {
   "cell_type": "markdown",
   "id": "bff7a1a2",
   "metadata": {
    "papermill": {
     "duration": 0.01844,
     "end_time": "2024-09-10T17:48:29.158906",
     "exception": false,
     "start_time": "2024-09-10T17:48:29.140466",
     "status": "completed"
    },
    "tags": []
   },
   "source": [
    "## Split it into the training and testing purpose"
   ]
  },
  {
   "cell_type": "code",
   "execution_count": 52,
   "id": "19698b7b",
   "metadata": {
    "execution": {
     "iopub.execute_input": "2024-09-10T17:48:29.198640Z",
     "iopub.status.busy": "2024-09-10T17:48:29.198083Z",
     "iopub.status.idle": "2024-09-10T17:48:29.209869Z",
     "shell.execute_reply": "2024-09-10T17:48:29.208453Z"
    },
    "papermill": {
     "duration": 0.035214,
     "end_time": "2024-09-10T17:48:29.213101",
     "exception": false,
     "start_time": "2024-09-10T17:48:29.177887",
     "status": "completed"
    },
    "tags": []
   },
   "outputs": [],
   "source": [
    "x_tr,x_te,y_tr,y_te = train_test_split(X,y,test_size=0.2,random_state=42)"
   ]
  },
  {
   "cell_type": "markdown",
   "id": "bff0bd2e",
   "metadata": {
    "papermill": {
     "duration": 0.018022,
     "end_time": "2024-09-10T17:48:29.249730",
     "exception": false,
     "start_time": "2024-09-10T17:48:29.231708",
     "status": "completed"
    },
    "tags": []
   },
   "source": [
    "## Define the Linear Regression Model and find its score "
   ]
  },
  {
   "cell_type": "code",
   "execution_count": 53,
   "id": "68404a85",
   "metadata": {
    "execution": {
     "iopub.execute_input": "2024-09-10T17:48:29.287742Z",
     "iopub.status.busy": "2024-09-10T17:48:29.287257Z",
     "iopub.status.idle": "2024-09-10T17:48:29.327658Z",
     "shell.execute_reply": "2024-09-10T17:48:29.326206Z"
    },
    "papermill": {
     "duration": 0.062482,
     "end_time": "2024-09-10T17:48:29.330418",
     "exception": false,
     "start_time": "2024-09-10T17:48:29.267936",
     "status": "completed"
    },
    "tags": []
   },
   "outputs": [
    {
     "data": {
      "text/html": [
       "<style>#sk-container-id-5 {color: black;}#sk-container-id-5 pre{padding: 0;}#sk-container-id-5 div.sk-toggleable {background-color: white;}#sk-container-id-5 label.sk-toggleable__label {cursor: pointer;display: block;width: 100%;margin-bottom: 0;padding: 0.3em;box-sizing: border-box;text-align: center;}#sk-container-id-5 label.sk-toggleable__label-arrow:before {content: \"▸\";float: left;margin-right: 0.25em;color: #696969;}#sk-container-id-5 label.sk-toggleable__label-arrow:hover:before {color: black;}#sk-container-id-5 div.sk-estimator:hover label.sk-toggleable__label-arrow:before {color: black;}#sk-container-id-5 div.sk-toggleable__content {max-height: 0;max-width: 0;overflow: hidden;text-align: left;background-color: #f0f8ff;}#sk-container-id-5 div.sk-toggleable__content pre {margin: 0.2em;color: black;border-radius: 0.25em;background-color: #f0f8ff;}#sk-container-id-5 input.sk-toggleable__control:checked~div.sk-toggleable__content {max-height: 200px;max-width: 100%;overflow: auto;}#sk-container-id-5 input.sk-toggleable__control:checked~label.sk-toggleable__label-arrow:before {content: \"▾\";}#sk-container-id-5 div.sk-estimator input.sk-toggleable__control:checked~label.sk-toggleable__label {background-color: #d4ebff;}#sk-container-id-5 div.sk-label input.sk-toggleable__control:checked~label.sk-toggleable__label {background-color: #d4ebff;}#sk-container-id-5 input.sk-hidden--visually {border: 0;clip: rect(1px 1px 1px 1px);clip: rect(1px, 1px, 1px, 1px);height: 1px;margin: -1px;overflow: hidden;padding: 0;position: absolute;width: 1px;}#sk-container-id-5 div.sk-estimator {font-family: monospace;background-color: #f0f8ff;border: 1px dotted black;border-radius: 0.25em;box-sizing: border-box;margin-bottom: 0.5em;}#sk-container-id-5 div.sk-estimator:hover {background-color: #d4ebff;}#sk-container-id-5 div.sk-parallel-item::after {content: \"\";width: 100%;border-bottom: 1px solid gray;flex-grow: 1;}#sk-container-id-5 div.sk-label:hover label.sk-toggleable__label {background-color: #d4ebff;}#sk-container-id-5 div.sk-serial::before {content: \"\";position: absolute;border-left: 1px solid gray;box-sizing: border-box;top: 0;bottom: 0;left: 50%;z-index: 0;}#sk-container-id-5 div.sk-serial {display: flex;flex-direction: column;align-items: center;background-color: white;padding-right: 0.2em;padding-left: 0.2em;position: relative;}#sk-container-id-5 div.sk-item {position: relative;z-index: 1;}#sk-container-id-5 div.sk-parallel {display: flex;align-items: stretch;justify-content: center;background-color: white;position: relative;}#sk-container-id-5 div.sk-item::before, #sk-container-id-5 div.sk-parallel-item::before {content: \"\";position: absolute;border-left: 1px solid gray;box-sizing: border-box;top: 0;bottom: 0;left: 50%;z-index: -1;}#sk-container-id-5 div.sk-parallel-item {display: flex;flex-direction: column;z-index: 1;position: relative;background-color: white;}#sk-container-id-5 div.sk-parallel-item:first-child::after {align-self: flex-end;width: 50%;}#sk-container-id-5 div.sk-parallel-item:last-child::after {align-self: flex-start;width: 50%;}#sk-container-id-5 div.sk-parallel-item:only-child::after {width: 0;}#sk-container-id-5 div.sk-dashed-wrapped {border: 1px dashed gray;margin: 0 0.4em 0.5em 0.4em;box-sizing: border-box;padding-bottom: 0.4em;background-color: white;}#sk-container-id-5 div.sk-label label {font-family: monospace;font-weight: bold;display: inline-block;line-height: 1.2em;}#sk-container-id-5 div.sk-label-container {text-align: center;}#sk-container-id-5 div.sk-container {/* jupyter's `normalize.less` sets `[hidden] { display: none; }` but bootstrap.min.css set `[hidden] { display: none !important; }` so we also need the `!important` here to be able to override the default hidden behavior on the sphinx rendered scikit-learn.org. See: https://github.com/scikit-learn/scikit-learn/issues/21755 */display: inline-block !important;position: relative;}#sk-container-id-5 div.sk-text-repr-fallback {display: none;}</style><div id=\"sk-container-id-5\" class=\"sk-top-container\"><div class=\"sk-text-repr-fallback\"><pre>LinearRegression()</pre><b>In a Jupyter environment, please rerun this cell to show the HTML representation or trust the notebook. <br />On GitHub, the HTML representation is unable to render, please try loading this page with nbviewer.org.</b></div><div class=\"sk-container\" hidden><div class=\"sk-item\"><div class=\"sk-estimator sk-toggleable\"><input class=\"sk-toggleable__control sk-hidden--visually\" id=\"sk-estimator-id-5\" type=\"checkbox\" checked><label for=\"sk-estimator-id-5\" class=\"sk-toggleable__label sk-toggleable__label-arrow\">LinearRegression</label><div class=\"sk-toggleable__content\"><pre>LinearRegression()</pre></div></div></div></div></div>"
      ],
      "text/plain": [
       "LinearRegression()"
      ]
     },
     "execution_count": 53,
     "metadata": {},
     "output_type": "execute_result"
    }
   ],
   "source": [
    "model1 = LinearRegression()\n",
    "model1.fit(x_tr,y_tr)"
   ]
  },
  {
   "cell_type": "code",
   "execution_count": 54,
   "id": "70c05e85",
   "metadata": {
    "execution": {
     "iopub.execute_input": "2024-09-10T17:48:29.368819Z",
     "iopub.status.busy": "2024-09-10T17:48:29.368367Z",
     "iopub.status.idle": "2024-09-10T17:48:29.376927Z",
     "shell.execute_reply": "2024-09-10T17:48:29.375366Z"
    },
    "papermill": {
     "duration": 0.031087,
     "end_time": "2024-09-10T17:48:29.379746",
     "exception": false,
     "start_time": "2024-09-10T17:48:29.348659",
     "status": "completed"
    },
    "tags": []
   },
   "outputs": [],
   "source": [
    "pred = model1.predict(x_te)"
   ]
  },
  {
   "cell_type": "code",
   "execution_count": 76,
   "id": "d2eb525d",
   "metadata": {},
   "outputs": [
    {
     "name": "stdout",
     "output_type": "stream",
     "text": [
      "[74.39 85.8 ]\n"
     ]
    }
   ],
   "source": [
    "print(pred)"
   ]
  },
  {
   "cell_type": "markdown",
   "id": "96e713d4",
   "metadata": {
    "papermill": {
     "duration": 0.018814,
     "end_time": "2024-09-10T17:48:29.417408",
     "exception": false,
     "start_time": "2024-09-10T17:48:29.398594",
     "status": "completed"
    },
    "tags": []
   },
   "source": [
    "## Find the metrics for the predicted value"
   ]
  },
  {
   "cell_type": "code",
   "execution_count": 78,
   "id": "758b2bb8",
   "metadata": {
    "execution": {
     "iopub.execute_input": "2024-09-10T17:48:29.457057Z",
     "iopub.status.busy": "2024-09-10T17:48:29.455539Z",
     "iopub.status.idle": "2024-09-10T17:48:29.468612Z",
     "shell.execute_reply": "2024-09-10T17:48:29.466829Z"
    },
    "papermill": {
     "duration": 0.037201,
     "end_time": "2024-09-10T17:48:29.472623",
     "exception": false,
     "start_time": "2024-09-10T17:48:29.435422",
     "status": "completed"
    },
    "tags": []
   },
   "outputs": [
    {
     "name": "stdout",
     "output_type": "stream",
     "text": [
      "R2 Score:  0.9364257777777777\n",
      "Mean Squared Error:  3.576050000000005\n",
      "Mean Absolute Error:  1.7950000000000017\n"
     ]
    }
   ],
   "source": [
    "from sklearn.metrics import r2_score,mean_squared_error,mean_absolute_error\n",
    "print(\"R2 Score: \",r2_score(y_te,pred))\n",
    "print(\"Mean Squared Error: \",mean_squared_error(y_te,pred))\n",
    "print(\"Mean Absolute Error: \",mean_absolute_error(y_te,pred))"
   ]
  },
  {
   "cell_type": "markdown",
   "id": "6853065c",
   "metadata": {
    "papermill": {
     "duration": 0.018095,
     "end_time": "2024-09-10T17:48:29.509823",
     "exception": false,
     "start_time": "2024-09-10T17:48:29.491728",
     "status": "completed"
    },
    "tags": []
   },
   "source": [
    "## Define the Random Forest Regressor Model and find its metrics"
   ]
  },
  {
   "cell_type": "code",
   "execution_count": 79,
   "id": "0d7b47a4",
   "metadata": {
    "execution": {
     "iopub.execute_input": "2024-09-10T17:48:29.548431Z",
     "iopub.status.busy": "2024-09-10T17:48:29.547933Z",
     "iopub.status.idle": "2024-09-10T17:48:29.761860Z",
     "shell.execute_reply": "2024-09-10T17:48:29.760240Z"
    },
    "papermill": {
     "duration": 0.236981,
     "end_time": "2024-09-10T17:48:29.764866",
     "exception": false,
     "start_time": "2024-09-10T17:48:29.527885",
     "status": "completed"
    },
    "tags": []
   },
   "outputs": [
    {
     "data": {
      "text/html": [
       "<style>#sk-container-id-8 {color: black;}#sk-container-id-8 pre{padding: 0;}#sk-container-id-8 div.sk-toggleable {background-color: white;}#sk-container-id-8 label.sk-toggleable__label {cursor: pointer;display: block;width: 100%;margin-bottom: 0;padding: 0.3em;box-sizing: border-box;text-align: center;}#sk-container-id-8 label.sk-toggleable__label-arrow:before {content: \"▸\";float: left;margin-right: 0.25em;color: #696969;}#sk-container-id-8 label.sk-toggleable__label-arrow:hover:before {color: black;}#sk-container-id-8 div.sk-estimator:hover label.sk-toggleable__label-arrow:before {color: black;}#sk-container-id-8 div.sk-toggleable__content {max-height: 0;max-width: 0;overflow: hidden;text-align: left;background-color: #f0f8ff;}#sk-container-id-8 div.sk-toggleable__content pre {margin: 0.2em;color: black;border-radius: 0.25em;background-color: #f0f8ff;}#sk-container-id-8 input.sk-toggleable__control:checked~div.sk-toggleable__content {max-height: 200px;max-width: 100%;overflow: auto;}#sk-container-id-8 input.sk-toggleable__control:checked~label.sk-toggleable__label-arrow:before {content: \"▾\";}#sk-container-id-8 div.sk-estimator input.sk-toggleable__control:checked~label.sk-toggleable__label {background-color: #d4ebff;}#sk-container-id-8 div.sk-label input.sk-toggleable__control:checked~label.sk-toggleable__label {background-color: #d4ebff;}#sk-container-id-8 input.sk-hidden--visually {border: 0;clip: rect(1px 1px 1px 1px);clip: rect(1px, 1px, 1px, 1px);height: 1px;margin: -1px;overflow: hidden;padding: 0;position: absolute;width: 1px;}#sk-container-id-8 div.sk-estimator {font-family: monospace;background-color: #f0f8ff;border: 1px dotted black;border-radius: 0.25em;box-sizing: border-box;margin-bottom: 0.5em;}#sk-container-id-8 div.sk-estimator:hover {background-color: #d4ebff;}#sk-container-id-8 div.sk-parallel-item::after {content: \"\";width: 100%;border-bottom: 1px solid gray;flex-grow: 1;}#sk-container-id-8 div.sk-label:hover label.sk-toggleable__label {background-color: #d4ebff;}#sk-container-id-8 div.sk-serial::before {content: \"\";position: absolute;border-left: 1px solid gray;box-sizing: border-box;top: 0;bottom: 0;left: 50%;z-index: 0;}#sk-container-id-8 div.sk-serial {display: flex;flex-direction: column;align-items: center;background-color: white;padding-right: 0.2em;padding-left: 0.2em;position: relative;}#sk-container-id-8 div.sk-item {position: relative;z-index: 1;}#sk-container-id-8 div.sk-parallel {display: flex;align-items: stretch;justify-content: center;background-color: white;position: relative;}#sk-container-id-8 div.sk-item::before, #sk-container-id-8 div.sk-parallel-item::before {content: \"\";position: absolute;border-left: 1px solid gray;box-sizing: border-box;top: 0;bottom: 0;left: 50%;z-index: -1;}#sk-container-id-8 div.sk-parallel-item {display: flex;flex-direction: column;z-index: 1;position: relative;background-color: white;}#sk-container-id-8 div.sk-parallel-item:first-child::after {align-self: flex-end;width: 50%;}#sk-container-id-8 div.sk-parallel-item:last-child::after {align-self: flex-start;width: 50%;}#sk-container-id-8 div.sk-parallel-item:only-child::after {width: 0;}#sk-container-id-8 div.sk-dashed-wrapped {border: 1px dashed gray;margin: 0 0.4em 0.5em 0.4em;box-sizing: border-box;padding-bottom: 0.4em;background-color: white;}#sk-container-id-8 div.sk-label label {font-family: monospace;font-weight: bold;display: inline-block;line-height: 1.2em;}#sk-container-id-8 div.sk-label-container {text-align: center;}#sk-container-id-8 div.sk-container {/* jupyter's `normalize.less` sets `[hidden] { display: none; }` but bootstrap.min.css set `[hidden] { display: none !important; }` so we also need the `!important` here to be able to override the default hidden behavior on the sphinx rendered scikit-learn.org. See: https://github.com/scikit-learn/scikit-learn/issues/21755 */display: inline-block !important;position: relative;}#sk-container-id-8 div.sk-text-repr-fallback {display: none;}</style><div id=\"sk-container-id-8\" class=\"sk-top-container\"><div class=\"sk-text-repr-fallback\"><pre>RandomForestRegressor(random_state=42)</pre><b>In a Jupyter environment, please rerun this cell to show the HTML representation or trust the notebook. <br />On GitHub, the HTML representation is unable to render, please try loading this page with nbviewer.org.</b></div><div class=\"sk-container\" hidden><div class=\"sk-item\"><div class=\"sk-estimator sk-toggleable\"><input class=\"sk-toggleable__control sk-hidden--visually\" id=\"sk-estimator-id-8\" type=\"checkbox\" checked><label for=\"sk-estimator-id-8\" class=\"sk-toggleable__label sk-toggleable__label-arrow\">RandomForestRegressor</label><div class=\"sk-toggleable__content\"><pre>RandomForestRegressor(random_state=42)</pre></div></div></div></div></div>"
      ],
      "text/plain": [
       "RandomForestRegressor(random_state=42)"
      ]
     },
     "execution_count": 79,
     "metadata": {},
     "output_type": "execute_result"
    }
   ],
   "source": [
    "model2 = RandomForestRegressor(random_state=42)\n",
    "model2.fit(x_tr,y_tr)"
   ]
  },
  {
   "cell_type": "code",
   "execution_count": 80,
   "id": "71f2542e",
   "metadata": {
    "execution": {
     "iopub.execute_input": "2024-09-10T17:48:29.805572Z",
     "iopub.status.busy": "2024-09-10T17:48:29.804370Z",
     "iopub.status.idle": "2024-09-10T17:48:29.820130Z",
     "shell.execute_reply": "2024-09-10T17:48:29.818759Z"
    },
    "papermill": {
     "duration": 0.03946,
     "end_time": "2024-09-10T17:48:29.823491",
     "exception": false,
     "start_time": "2024-09-10T17:48:29.784031",
     "status": "completed"
    },
    "tags": []
   },
   "outputs": [],
   "source": [
    "pred = model2.predict(x_te)"
   ]
  },
  {
   "cell_type": "code",
   "execution_count": 81,
   "id": "e780c951",
   "metadata": {
    "execution": {
     "iopub.execute_input": "2024-09-10T17:48:29.868251Z",
     "iopub.status.busy": "2024-09-10T17:48:29.867710Z",
     "iopub.status.idle": "2024-09-10T17:48:29.880292Z",
     "shell.execute_reply": "2024-09-10T17:48:29.878771Z"
    },
    "papermill": {
     "duration": 0.038501,
     "end_time": "2024-09-10T17:48:29.884091",
     "exception": false,
     "start_time": "2024-09-10T17:48:29.845590",
     "status": "completed"
    },
    "tags": []
   },
   "outputs": [
    {
     "name": "stdout",
     "output_type": "stream",
     "text": [
      "R2 Score:  0.9364257777777777\n",
      "Mean Squared Error:  3.576050000000005\n",
      "Mean Absolute Error:  1.7950000000000017\n"
     ]
    }
   ],
   "source": [
    "print(\"R2 Score: \",r2_score(y_te,pred))\n",
    "print(\"Mean Squared Error: \",mean_squared_error(y_te,pred))\n",
    "print(\"Mean Absolute Error: \",mean_absolute_error(y_te,pred))"
   ]
  },
  {
   "cell_type": "markdown",
   "id": "43c2ed5f",
   "metadata": {
    "papermill": {
     "duration": 0.01994,
     "end_time": "2024-09-10T17:48:29.924516",
     "exception": false,
     "start_time": "2024-09-10T17:48:29.904576",
     "status": "completed"
    },
    "tags": []
   },
   "source": [
    "## Neighbors Regressor\n"
   ]
  },
  {
   "cell_type": "code",
   "execution_count": 82,
   "id": "a58a3696",
   "metadata": {},
   "outputs": [],
   "source": [
    "param_grid = {\n",
    "    'n_neighbors': [3, 5, 7, 9, 11],\n",
    "    'weights': ['uniform', 'distance'],\n",
    "    'algorithm': ['auto', 'ball_tree', 'kd_tree', 'brute'],\n",
    "    'p': [1, 2]  # p=1 is for Manhattan distance, p=2 is for Euclidean distance\n",
    "}"
   ]
  },
  {
   "cell_type": "code",
   "execution_count": 90,
   "id": "74baa12b",
   "metadata": {},
   "outputs": [
    {
     "data": {
      "text/html": [
       "<style>#sk-container-id-10 {color: black;}#sk-container-id-10 pre{padding: 0;}#sk-container-id-10 div.sk-toggleable {background-color: white;}#sk-container-id-10 label.sk-toggleable__label {cursor: pointer;display: block;width: 100%;margin-bottom: 0;padding: 0.3em;box-sizing: border-box;text-align: center;}#sk-container-id-10 label.sk-toggleable__label-arrow:before {content: \"▸\";float: left;margin-right: 0.25em;color: #696969;}#sk-container-id-10 label.sk-toggleable__label-arrow:hover:before {color: black;}#sk-container-id-10 div.sk-estimator:hover label.sk-toggleable__label-arrow:before {color: black;}#sk-container-id-10 div.sk-toggleable__content {max-height: 0;max-width: 0;overflow: hidden;text-align: left;background-color: #f0f8ff;}#sk-container-id-10 div.sk-toggleable__content pre {margin: 0.2em;color: black;border-radius: 0.25em;background-color: #f0f8ff;}#sk-container-id-10 input.sk-toggleable__control:checked~div.sk-toggleable__content {max-height: 200px;max-width: 100%;overflow: auto;}#sk-container-id-10 input.sk-toggleable__control:checked~label.sk-toggleable__label-arrow:before {content: \"▾\";}#sk-container-id-10 div.sk-estimator input.sk-toggleable__control:checked~label.sk-toggleable__label {background-color: #d4ebff;}#sk-container-id-10 div.sk-label input.sk-toggleable__control:checked~label.sk-toggleable__label {background-color: #d4ebff;}#sk-container-id-10 input.sk-hidden--visually {border: 0;clip: rect(1px 1px 1px 1px);clip: rect(1px, 1px, 1px, 1px);height: 1px;margin: -1px;overflow: hidden;padding: 0;position: absolute;width: 1px;}#sk-container-id-10 div.sk-estimator {font-family: monospace;background-color: #f0f8ff;border: 1px dotted black;border-radius: 0.25em;box-sizing: border-box;margin-bottom: 0.5em;}#sk-container-id-10 div.sk-estimator:hover {background-color: #d4ebff;}#sk-container-id-10 div.sk-parallel-item::after {content: \"\";width: 100%;border-bottom: 1px solid gray;flex-grow: 1;}#sk-container-id-10 div.sk-label:hover label.sk-toggleable__label {background-color: #d4ebff;}#sk-container-id-10 div.sk-serial::before {content: \"\";position: absolute;border-left: 1px solid gray;box-sizing: border-box;top: 0;bottom: 0;left: 50%;z-index: 0;}#sk-container-id-10 div.sk-serial {display: flex;flex-direction: column;align-items: center;background-color: white;padding-right: 0.2em;padding-left: 0.2em;position: relative;}#sk-container-id-10 div.sk-item {position: relative;z-index: 1;}#sk-container-id-10 div.sk-parallel {display: flex;align-items: stretch;justify-content: center;background-color: white;position: relative;}#sk-container-id-10 div.sk-item::before, #sk-container-id-10 div.sk-parallel-item::before {content: \"\";position: absolute;border-left: 1px solid gray;box-sizing: border-box;top: 0;bottom: 0;left: 50%;z-index: -1;}#sk-container-id-10 div.sk-parallel-item {display: flex;flex-direction: column;z-index: 1;position: relative;background-color: white;}#sk-container-id-10 div.sk-parallel-item:first-child::after {align-self: flex-end;width: 50%;}#sk-container-id-10 div.sk-parallel-item:last-child::after {align-self: flex-start;width: 50%;}#sk-container-id-10 div.sk-parallel-item:only-child::after {width: 0;}#sk-container-id-10 div.sk-dashed-wrapped {border: 1px dashed gray;margin: 0 0.4em 0.5em 0.4em;box-sizing: border-box;padding-bottom: 0.4em;background-color: white;}#sk-container-id-10 div.sk-label label {font-family: monospace;font-weight: bold;display: inline-block;line-height: 1.2em;}#sk-container-id-10 div.sk-label-container {text-align: center;}#sk-container-id-10 div.sk-container {/* jupyter's `normalize.less` sets `[hidden] { display: none; }` but bootstrap.min.css set `[hidden] { display: none !important; }` so we also need the `!important` here to be able to override the default hidden behavior on the sphinx rendered scikit-learn.org. See: https://github.com/scikit-learn/scikit-learn/issues/21755 */display: inline-block !important;position: relative;}#sk-container-id-10 div.sk-text-repr-fallback {display: none;}</style><div id=\"sk-container-id-10\" class=\"sk-top-container\"><div class=\"sk-text-repr-fallback\"><pre>KNeighborsRegressor()</pre><b>In a Jupyter environment, please rerun this cell to show the HTML representation or trust the notebook. <br />On GitHub, the HTML representation is unable to render, please try loading this page with nbviewer.org.</b></div><div class=\"sk-container\" hidden><div class=\"sk-item\"><div class=\"sk-estimator sk-toggleable\"><input class=\"sk-toggleable__control sk-hidden--visually\" id=\"sk-estimator-id-10\" type=\"checkbox\" checked><label for=\"sk-estimator-id-10\" class=\"sk-toggleable__label sk-toggleable__label-arrow\">KNeighborsRegressor</label><div class=\"sk-toggleable__content\"><pre>KNeighborsRegressor()</pre></div></div></div></div></div>"
      ],
      "text/plain": [
       "KNeighborsRegressor()"
      ]
     },
     "execution_count": 90,
     "metadata": {},
     "output_type": "execute_result"
    }
   ],
   "source": [
    "model3 = KNeighborsRegressor()\n",
    "model3.fit(x_tr, y_tr)"
   ]
  },
  {
   "cell_type": "code",
   "execution_count": 91,
   "id": "90b6afbd",
   "metadata": {
    "execution": {
     "iopub.execute_input": "2024-09-10T17:48:30.026954Z",
     "iopub.status.busy": "2024-09-10T17:48:30.026429Z",
     "iopub.status.idle": "2024-09-10T17:48:30.037105Z",
     "shell.execute_reply": "2024-09-10T17:48:30.035693Z"
    },
    "papermill": {
     "duration": 0.03817,
     "end_time": "2024-09-10T17:48:30.041630",
     "exception": false,
     "start_time": "2024-09-10T17:48:30.003460",
     "status": "completed"
    },
    "tags": []
   },
   "outputs": [],
   "source": [
    "pred = model3.predict(x_te)"
   ]
  },
  {
   "cell_type": "code",
   "execution_count": 87,
   "id": "0c1fc1df",
   "metadata": {
    "execution": {
     "iopub.execute_input": "2024-09-10T17:48:30.085573Z",
     "iopub.status.busy": "2024-09-10T17:48:30.085144Z",
     "iopub.status.idle": "2024-09-10T17:48:30.095568Z",
     "shell.execute_reply": "2024-09-10T17:48:30.093973Z"
    },
    "papermill": {
     "duration": 0.03507,
     "end_time": "2024-09-10T17:48:30.098583",
     "exception": false,
     "start_time": "2024-09-10T17:48:30.063513",
     "status": "completed"
    },
    "tags": []
   },
   "outputs": [
    {
     "name": "stdout",
     "output_type": "stream",
     "text": [
      "R2 Score:  0.9364257777777777\n",
      "Mean Squared Error:  3.576050000000005\n",
      "Mean Absolute Error:  1.7950000000000017\n"
     ]
    }
   ],
   "source": [
    "print(\"R2 Score: \",r2_score(y_te,pred))\n",
    "print(\"Mean Squared Error: \",mean_squared_error(y_te,pred))\n",
    "print(\"Mean Absolute Error: \",mean_absolute_error(y_te,pred))"
   ]
  },
  {
   "cell_type": "markdown",
   "id": "21ce7992",
   "metadata": {
    "papermill": {
     "duration": 0.020176,
     "end_time": "2024-09-10T17:48:30.139362",
     "exception": false,
     "start_time": "2024-09-10T17:48:30.119186",
     "status": "completed"
    },
    "tags": []
   },
   "source": [
    "## From the above case model1 performs well than the model2"
   ]
  }
 ],
 "metadata": {
  "kaggle": {
   "accelerator": "none",
   "dataSources": [
    {
     "datasetId": 5555170,
     "sourceId": 9189698,
     "sourceType": "datasetVersion"
    }
   ],
   "dockerImageVersionId": 30761,
   "isGpuEnabled": false,
   "isInternetEnabled": true,
   "language": "python",
   "sourceType": "notebook"
  },
  "kernelspec": {
   "display_name": "Python 3",
   "language": "python",
   "name": "python3"
  },
  "language_info": {
   "codemirror_mode": {
    "name": "ipython",
    "version": 3
   },
   "file_extension": ".py",
   "mimetype": "text/x-python",
   "name": "python",
   "nbconvert_exporter": "python",
   "pygments_lexer": "ipython3",
   "version": "3.8.20"
  },
  "papermill": {
   "default_parameters": {},
   "duration": 12.368932,
   "end_time": "2024-09-10T17:48:30.886375",
   "environment_variables": {},
   "exception": null,
   "input_path": "__notebook__.ipynb",
   "output_path": "__notebook__.ipynb",
   "parameters": {},
   "start_time": "2024-09-10T17:48:18.517443",
   "version": "2.6.0"
  }
 },
 "nbformat": 4,
 "nbformat_minor": 5
}
